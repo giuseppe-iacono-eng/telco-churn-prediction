{
  "nbformat": 4,
  "nbformat_minor": 0,
  "metadata": {
    "colab": {
      "provenance": [],
      "authorship_tag": "ABX9TyNC88NAo7A1bVxjCadhlWav",
      "include_colab_link": true
    },
    "kernelspec": {
      "name": "python3",
      "display_name": "Python 3"
    },
    "language_info": {
      "name": "python"
    }
  },
  "cells": [
    {
      "cell_type": "markdown",
      "metadata": {
        "id": "view-in-github",
        "colab_type": "text"
      },
      "source": [
        "<a href=\"https://colab.research.google.com/github/giuseppe-iacono-eng/telco-churn-prediction/blob/main/02_model.ipynb\" target=\"_parent\"><img src=\"https://colab.research.google.com/assets/colab-badge.svg\" alt=\"Open In Colab\"/></a>"
      ]
    },
    {
      "cell_type": "code",
      "source": [
        "# Shared project folder on Google Drive\n",
        "from google.colab import drive\n",
        "drive.mount('/content/drive', force_remount=True)\n",
        "\n",
        "import os, pathlib\n",
        "BASE_DIR = \"/content/drive/MyDrive/colab_data/telco-churn\"   # change if you like\n",
        "DATA_DIR = f\"{BASE_DIR}/data\"\n",
        "ARTIFACTS_DIR = f\"{BASE_DIR}/artifacts\"\n",
        "pathlib.Path(DATA_DIR).mkdir(parents=True, exist_ok=True)\n",
        "pathlib.Path(ARTIFACTS_DIR).mkdir(parents=True, exist_ok=True)\n",
        "\n",
        "RAW_PATH   = f\"{DATA_DIR}/telco_raw.csv\"\n",
        "CLEAN_PATH = f\"{DATA_DIR}/telco_clean.csv\"\n",
        "MODEL_PATH = f\"{ARTIFACTS_DIR}/model.joblib\""
      ],
      "metadata": {
        "id": "UGuC5aymmOoq",
        "outputId": "22dae859-39b0-4dc0-fbeb-f92b907fccb8",
        "colab": {
          "base_uri": "https://localhost:8080/"
        }
      },
      "execution_count": 1,
      "outputs": [
        {
          "output_type": "stream",
          "name": "stdout",
          "text": [
            "Mounted at /content/drive\n"
          ]
        }
      ]
    },
    {
      "cell_type": "code",
      "execution_count": 3,
      "metadata": {
        "id": "qE_Pf16kl1Lx",
        "outputId": "28ff2757-27f1-47e7-93d6-632ae3f75bb3",
        "colab": {
          "base_uri": "https://localhost:8080/",
          "height": 692
        }
      },
      "outputs": [
        {
          "output_type": "stream",
          "name": "stdout",
          "text": [
            "Mounted at /content/drive\n",
            "Logistic ROC-AUC: 0.842\n",
            "XGBoost ROC-AUC: 0.832\n",
            "Chosen threshold (recall>=0.80): 0.211\n",
            "              precision    recall  f1-score   support\n",
            "\n",
            "           0      0.909     0.712     0.798      1035\n",
            "           1      0.502     0.802     0.617       374\n",
            "\n",
            "    accuracy                          0.736      1409\n",
            "   macro avg      0.705     0.757     0.708      1409\n",
            "weighted avg      0.801     0.736     0.750      1409\n",
            "\n"
          ]
        },
        {
          "output_type": "display_data",
          "data": {
            "text/plain": [
              "<Figure size 640x480 with 2 Axes>"
            ],
            "image/png": "[encoded data removed]"
          },
          "metadata": {}
        },
        {
          "output_type": "stream",
          "name": "stdout",
          "text": [
            "✅ Saved model pipeline to: /content/drive/MyDrive/colab_data/telco-churn/artifacts/model.joblib\n"
          ]
        }
      ],
      "source": [
        "# ==== Shared Drive header (same in every notebook) ====\n",
        "from google.colab import drive\n",
        "drive.mount('/content/drive', force_remount=True)\n",
        "\n",
        "import os, pathlib\n",
        "BASE_DIR = \"/content/drive/MyDrive/colab_data/telco-churn\"   # change if you like\n",
        "DATA_DIR = f\"{BASE_DIR}/data\"\n",
        "ARTIFACTS_DIR = f\"{BASE_DIR}/artifacts\"\n",
        "pathlib.Path(DATA_DIR).mkdir(parents=True, exist_ok=True)\n",
        "pathlib.Path(ARTIFACTS_DIR).mkdir(parents=True, exist_ok=True)\n",
        "\n",
        "CLEAN_PATH = f\"{DATA_DIR}/telco_clean.csv\"\n",
        "MODEL_PATH = f\"{ARTIFACTS_DIR}/model.joblib\"\n",
        "\n",
        "# ==== Install deps ====\n",
        "!pip -q install xgboost\n",
        "\n",
        "# ==== Imports ====\n",
        "import pandas as pd, numpy as np, matplotlib.pyplot as plt\n",
        "from sklearn.model_selection import train_test_split\n",
        "from sklearn.preprocessing import OneHotEncoder, StandardScaler\n",
        "from sklearn.compose import ColumnTransformer\n",
        "from sklearn.pipeline import Pipeline\n",
        "from sklearn.linear_model import LogisticRegression\n",
        "from sklearn.metrics import (\n",
        "    roc_auc_score, precision_recall_curve, classification_report,\n",
        "    ConfusionMatrixDisplay\n",
        ")\n",
        "from xgboost import XGBClassifier\n",
        "import joblib\n",
        "\n",
        "# ==== Load clean data ====\n",
        "assert os.path.exists(CLEAN_PATH), f\"Clean file not found: {CLEAN_PATH}. Run 01_eda.ipynb first.\"\n",
        "df = pd.read_csv(CLEAN_PATH)\n",
        "y = df[\"Churn\"]\n",
        "X = df.drop(columns=[\"Churn\"])\n",
        "\n",
        "num_cols = X.select_dtypes(include=np.number).columns.tolist()\n",
        "cat_cols = X.select_dtypes(exclude=np.number).columns.tolist()\n",
        "\n",
        "pre = ColumnTransformer([\n",
        "    (\"num\", StandardScaler(), num_cols),\n",
        "    (\"cat\", OneHotEncoder(handle_unknown=\"ignore\"), cat_cols)\n",
        "])\n",
        "\n",
        "Xtr, Xte, ytr, yte = train_test_split(X, y, stratify=y, test_size=0.2, random_state=42)\n",
        "\n",
        "# ==== Baseline: Logistic Regression ====\n",
        "logit = Pipeline([(\"prep\", pre), (\"clf\", LogisticRegression(max_iter=1000))])\n",
        "logit.fit(Xtr, ytr)\n",
        "proba_log = logit.predict_proba(Xte)[:, 1]\n",
        "print(\"Logistic ROC-AUC:\", round(roc_auc_score(yte, proba_log), 3))\n",
        "\n",
        "# ==== Stronger: XGBoost ====\n",
        "xgb = Pipeline([\n",
        "    (\"prep\", pre),\n",
        "    (\"clf\", XGBClassifier(\n",
        "        n_estimators=400, max_depth=6, learning_rate=0.05,\n",
        "        subsample=0.9, colsample_bytree=0.9,\n",
        "        eval_metric=\"logloss\", random_state=42\n",
        "    ))\n",
        "])\n",
        "xgb.fit(Xtr, ytr)\n",
        "proba_xgb = xgb.predict_proba(Xte)[:, 1]\n",
        "print(\"XGBoost ROC-AUC:\", round(roc_auc_score(yte, proba_xgb), 3))\n",
        "\n",
        "# ==== Business threshold: recall >= 0.80, maximize precision ====\n",
        "prec, rec, thr = precision_recall_curve(yte, proba_xgb)\n",
        "\n",
        "# Align lengths: thresholds has length n, precision/recall have length n+1\n",
        "prec_t = prec[:-1]\n",
        "rec_t  = rec[:-1]\n",
        "\n",
        "target_recall = 0.80\n",
        "mask = rec_t >= target_recall\n",
        "\n",
        "if mask.any():\n",
        "    best_i = np.argmax(prec_t[mask])          # index inside masked arrays\n",
        "    best_thr = thr[mask][best_i]              # pick threshold matching that point\n",
        "else:\n",
        "    # fallback if model cannot reach desired recall\n",
        "    best_thr = 0.5\n",
        "\n",
        "pred = (proba_xgb >= best_thr).astype(int)\n",
        "\n",
        "print(\"Chosen threshold (recall>=0.80):\", round(float(best_thr), 3))\n",
        "print(classification_report(yte, pred, digits=3))\n",
        "ConfusionMatrixDisplay.from_predictions(yte, pred)\n",
        "plt.show()\n",
        "\n",
        "# ==== Save best pipeline ====\n",
        "joblib.dump(xgb, MODEL_PATH)\n",
        "print(\"✅ Saved model pipeline to:\", MODEL_PATH)"
      ]
    }
  ]
}